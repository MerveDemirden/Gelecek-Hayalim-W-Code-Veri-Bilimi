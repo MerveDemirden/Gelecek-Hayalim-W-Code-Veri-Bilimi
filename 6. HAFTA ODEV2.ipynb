{
 "cells": [
  {
   "cell_type": "markdown",
   "id": "96ff5298-3ac0-42cf-90d0-96bf359e3848",
   "metadata": {},
   "source": [
    "6. HAFTA ÖDEV-2"
   ]
  },
  {
   "cell_type": "markdown",
   "id": "ee20a5c5-0368-4354-89e4-87653a6d73e4",
   "metadata": {},
   "source": [
    " Sayılardan oluşan bir boyutlu array oluşturulur. Arrayi oluştururken sayıların veri tipini integer olarak belirtilir. Oluşturulan arrayin boyut, eleman sayısı bilgilerine bakılır. \r\n",
    " İki ve üç boyutlu arrayler oluşturulur. Bu arraylerin boyut, eleman sayısı, satır, sütun bilgilerine ulaşılır. Arrayler üzerinde indexleme ve dilimleme(slicing) işlemi yapılır. \r\n",
    " Numpy fonksiyonu kullanarak bir, iki ve üç boyutlu arrayler oluşturulur. Arrayler üzerinde indexleme ve dilimleme(slicing) işlemi yapılır \r\n",
    " Sıfırlardan oluşan ve birlerden oluşan iki tane iki boyutlu array oluşturulur. Bu arrayler satır ve sütun bazında birleştirilir. "
   ]
  },
  {
   "cell_type": "code",
   "execution_count": 1,
   "id": "4ec9cc16-b9fb-4628-9c0c-1153cf383e40",
   "metadata": {},
   "outputs": [],
   "source": [
    "import numpy as np"
   ]
  },
  {
   "cell_type": "code",
   "execution_count": 2,
   "id": "5244b398-6bde-4530-8549-3794a273429f",
   "metadata": {},
   "outputs": [],
   "source": [
    "array1 = np.array([1,2,3,4,5], dtype = int)"
   ]
  },
  {
   "cell_type": "code",
   "execution_count": 4,
   "id": "5326e61c-81f5-4232-9f22-5dc92642c09e",
   "metadata": {},
   "outputs": [
    {
     "name": "stdout",
     "output_type": "stream",
     "text": [
      "1. Boyutlu Array:\n",
      "Array boyutu: 1\n",
      "Eleman sayısı: 5\n",
      "Array şekli: (5,)\n"
     ]
    }
   ],
   "source": [
    "print(\"1. Boyutlu Array:\")\n",
    "print(\"Array boyutu:\", array1.ndim)\n",
    "print(\"Eleman sayısı:\", array1.size)\n",
    "print(\"Array şekli:\", array1.shape)"
   ]
  },
  {
   "cell_type": "code",
   "execution_count": 5,
   "id": "d0d8b9b1-c2b5-40e1-aa7b-3edaf28560c2",
   "metadata": {},
   "outputs": [
    {
     "name": "stdout",
     "output_type": "stream",
     "text": [
      "2. İki Boyutlu Array:\n",
      "Boyut: 2\n",
      "Eleman sayısı: 6\n",
      "Şekil: (2, 3)\n",
      "\n"
     ]
    }
   ],
   "source": [
    "#2 Boyutlu Array Oluşturma \n",
    "array2 = np.array([[1, 2, 3], [4, 5, 6]], dtype=int)\n",
    "\n",
    "print(\"2. İki Boyutlu Array:\")\n",
    "print(\"Boyut:\", array2.ndim)  \n",
    "print(\"Eleman sayısı:\", array2.size)  \n",
    "print(\"Şekil:\", array2.shape) \n",
    "print()"
   ]
  },
  {
   "cell_type": "code",
   "execution_count": 6,
   "id": "7f0d73bf-35d5-4161-a7c4-3cdf3d654636",
   "metadata": {},
   "outputs": [
    {
     "name": "stdout",
     "output_type": "stream",
     "text": [
      "3. Üç Boyutlu Array:\n",
      "Boyut: 3\n",
      "Eleman sayısı: 8\n",
      "Şekil: (2, 2, 2)\n",
      "\n"
     ]
    }
   ],
   "source": [
    "# 3. Üç Boyutlu Array Oluşturma\n",
    "array3 = np.array([[[1, 2], [3, 4]], [[5, 6], [7, 8]]], dtype=int)\n",
    "\n",
    "print(\"3. Üç Boyutlu Array:\")\n",
    "print(\"Boyut:\", array3.ndim)  \n",
    "print(\"Eleman sayısı:\", array3.size)  \n",
    "print(\"Şekil:\", array3.shape)  \n",
    "print()\n"
   ]
  },
  {
   "cell_type": "code",
   "execution_count": 7,
   "id": "27f49a2d-3f87-45ef-83e1-dbdb820089ab",
   "metadata": {},
   "outputs": [
    {
     "name": "stdout",
     "output_type": "stream",
     "text": [
      "Indexleme ve Dilimleme İşlemleri:\n",
      "İki boyutlu arrayin [1,2] elemanı: 6\n",
      "İki boyutlu arrayin ilk satırı: [1 2 3]\n",
      "\n",
      "Üç boyutlu arrayin [1,0,1] elemanı: 6\n",
      "Üç boyutlu arrayin ilk 'katmanı':\n",
      " [[1 2]\n",
      " [3 4]]\n",
      "\n"
     ]
    }
   ],
   "source": [
    "#Indexleme ve Dilimleme İşlemleri\n",
    "print(\"Indexleme ve Dilimleme İşlemleri:\")\n",
    "\n",
    "print(\"İki boyutlu arrayin [1,2] elemanı:\", array2[1, 2])  \n",
    "print(\"İki boyutlu arrayin ilk satırı:\", array2[0, :])  \n",
    "print()\n",
    "\n",
    "# Üç boyutlu array için elemanlara erişim\n",
    "print(\"Üç boyutlu arrayin [1,0,1] elemanı:\", array3[1, 0, 1])  \n",
    "print(\"Üç boyutlu arrayin ilk 'katmanı':\\n\", array3[0, :, :]) \n",
    "print()"
   ]
  },
  {
   "cell_type": "code",
   "execution_count": 8,
   "id": "28ed6c87-21c7-4883-8b0c-60384cae0cf3",
   "metadata": {},
   "outputs": [
    {
     "name": "stdout",
     "output_type": "stream",
     "text": [
      "Sıfırlardan Oluşan Array:\n",
      " [[0 0 0]\n",
      " [0 0 0]]\n",
      "Birlerden Oluşan Array:\n",
      " [[1 1 1]\n",
      " [1 1 1]]\n",
      "Satır Bazında Birleştirilmiş Array:\n",
      " [[0 0 0]\n",
      " [0 0 0]\n",
      " [1 1 1]\n",
      " [1 1 1]]\n",
      "Sütun Bazında Birleştirilmiş Array:\n",
      " [[0 0 0 1 1 1]\n",
      " [0 0 0 1 1 1]]\n"
     ]
    }
   ],
   "source": [
    "#Sıfırlardan ve Birlerden Oluşan Arrayler\n",
    "\n",
    "zeros_array = np.zeros((2, 3), dtype=int)\n",
    "print(\"Sıfırlardan Oluşan Array:\\n\", zeros_array)\n",
    "\n",
    "ones_array = np.ones((2, 3), dtype=int)\n",
    "print(\"Birlerden Oluşan Array:\\n\", ones_array)\n",
    "\n",
    "vertical_stack = np.vstack((zeros_array, ones_array))\n",
    "print(\"Satır Bazında Birleştirilmiş Array:\\n\", vertical_stack)\n",
    "\n",
    "horizontal_stack = np.hstack((zeros_array, ones_array))\n",
    "print(\"Sütun Bazında Birleştirilmiş Array:\\n\", horizontal_stack)"
   ]
  }
 ],
 "metadata": {
  "kernelspec": {
   "display_name": "Python 3 (ipykernel)",
   "language": "python",
   "name": "python3"
  },
  "language_info": {
   "codemirror_mode": {
    "name": "ipython",
    "version": 3
   },
   "file_extension": ".py",
   "mimetype": "text/x-python",
   "name": "python",
   "nbconvert_exporter": "python",
   "pygments_lexer": "ipython3",
   "version": "3.11.7"
  }
 },
 "nbformat": 4,
 "nbformat_minor": 5
}
