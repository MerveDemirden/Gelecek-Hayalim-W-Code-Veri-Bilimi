{
 "cells": [
  {
   "cell_type": "markdown",
   "id": "af82c908-b347-4dcf-9808-7a7e7840396d",
   "metadata": {},
   "source": [
    "ÖDEV\n",
    "\n",
    "1. Aşağıdaki işlemleri indexing ve slicing kullanarak liste üzerinde uygulayın.\r\n",
    "\r\n",
    "liste = [\"Python\",True,9,\"3\",8.4,\"Hi-Kod\",\"False\",4.7]"
   ]
  },
  {
   "cell_type": "markdown",
   "id": "41388a63-7270-4094-9fca-6defc846f7c3",
   "metadata": {},
   "source": [
    "-> \"3\" değerine ulaşmak için indexleme yapın.\n",
    "\r\n"
   ]
  },
  {
   "cell_type": "code",
   "execution_count": 2,
   "id": "0c264336-5990-4934-a603-6da9614bf104",
   "metadata": {},
   "outputs": [
    {
     "name": "stdout",
     "output_type": "stream",
     "text": [
      "3\n"
     ]
    }
   ],
   "source": [
    "#indexleme\n",
    "liste = [\"Python\", True, 9, \"3\", 8.4, \"Hi-Kod\", \"False\", 4.7]\n",
    "print(liste[3])"
   ]
  },
  {
   "cell_type": "markdown",
   "id": "8012fbe6-2237-42bd-9d64-f5a453bbc77f",
   "metadata": {},
   "source": [
    "-> \"Hi-Kod\" değerine ulaşmak için indexleme yapın.7]"
   ]
  },
  {
   "cell_type": "code",
   "execution_count": 4,
   "id": "6acd5d4b-3c85-46ca-8bf8-44575abc9dd1",
   "metadata": {},
   "outputs": [
    {
     "name": "stdout",
     "output_type": "stream",
     "text": [
      "Hi-Kod\n"
     ]
    }
   ],
   "source": [
    "print(liste[5])"
   ]
  },
  {
   "cell_type": "markdown",
   "id": "64bb7d19-418f-4708-8714-92bc2b3bef2e",
   "metadata": {},
   "source": [
    "-> 4.7 değerine ulaşmak için indexleme yapın."
   ]
  },
  {
   "cell_type": "code",
   "execution_count": 5,
   "id": "2238c2f7-1f50-4f37-b007-22a932285adb",
   "metadata": {},
   "outputs": [
    {
     "name": "stdout",
     "output_type": "stream",
     "text": [
      "Hi-Kod\n"
     ]
    }
   ],
   "source": [
    "print(liste[5])"
   ]
  },
  {
   "cell_type": "markdown",
   "id": "ec5fea1f-021c-4b3c-b84d-9bc7a6a509b4",
   "metadata": {},
   "source": [
    "-> 9,\"3\",8.4,\"Hi-Kod\" değerlerine ulaşmak için slicing yapın."
   ]
  },
  {
   "cell_type": "code",
   "execution_count": 6,
   "id": "7f704516-97b8-41f4-a567-ae365586dd31",
   "metadata": {},
   "outputs": [
    {
     "name": "stdout",
     "output_type": "stream",
     "text": [
      "[9, '3', 8.4, 'Hi-Kod']\n"
     ]
    }
   ],
   "source": [
    "print(liste[2:6])"
   ]
  },
  {
   "cell_type": "markdown",
   "id": "ae114f09-e7d6-4d7f-adef-33b3ee0f1710",
   "metadata": {},
   "source": [
    "-> 8.4,\"Hi-Kod\",\"False\",4.7 değerlerine ulaşmak için slicing yapın."
   ]
  },
  {
   "cell_type": "code",
   "execution_count": 7,
   "id": "8b303288-9c97-4870-8379-c196ca6f73ab",
   "metadata": {},
   "outputs": [
    {
     "name": "stdout",
     "output_type": "stream",
     "text": [
      "[8.4, 'Hi-Kod', 'False', 4.7]\n"
     ]
    }
   ],
   "source": [
    "print(liste[4:8])"
   ]
  },
  {
   "cell_type": "markdown",
   "id": "f2241277-c4f1-4e8b-89d1-07f5fb4b9293",
   "metadata": {},
   "source": [
    "2. Verilen listede bulunan string veri tipindeki öğeleri yeni_liste isimli listeye eklenir.\n",
    "\n",
    "liste = [\"Python\",True,9,\"3\",8.4,\"Hi-Kod\",\"False\",4.7]"
   ]
  },
  {
   "cell_type": "code",
   "execution_count": 9,
   "id": "dd2eda7c-6140-4b93-bb51-c6f86add2483",
   "metadata": {},
   "outputs": [
    {
     "name": "stdout",
     "output_type": "stream",
     "text": [
      "['Python', '3', 'Hi-Kod', 'False']\n"
     ]
    }
   ],
   "source": [
    "yeni_liste = []\n",
    "\n",
    "for oge in liste:\n",
    "    if isinstance(oge, str):\n",
    "        yeni_liste.append(oge)\n",
    "print(yeni_liste)"
   ]
  },
  {
   "cell_type": "markdown",
   "id": "59310840-180a-40b9-9aec-353a8c2db393",
   "metadata": {},
   "source": [
    "3. Enumerate methodunu araştırın ve aşağıdaki örneği enumerate methodu ile yapın.\r\n",
    "\r\n",
    "for index in range(len(meyveler)):\r\n",
    "\r\n",
    "    print(\"{}. indexte bulunan meyve: {}\".format(index,meyveler[index])"
   ]
  },
  {
   "cell_type": "code",
   "execution_count": 15,
   "id": "a11e60c9-d96c-4538-a9c9-1f8ccd9957f5",
   "metadata": {},
   "outputs": [
    {
     "name": "stdout",
     "output_type": "stream",
     "text": [
      "0. indexte bulunan meyve: armut\n",
      "1. indexte bulunan meyve: kiraz\n",
      "2. indexte bulunan meyve: muz\n",
      "3. indexte bulunan meyve: çilek\n"
     ]
    }
   ],
   "source": [
    "meyveler = [\"armut\", \"kiraz\", \"muz\", \"çilek\"]\n",
    "\n",
    "for index, meyve in enumerate(meyveler):\n",
    "    print(\"{}. indexte bulunan meyve: {}\".format(index, meyve))"
   ]
  }
 ],
 "metadata": {
  "kernelspec": {
   "display_name": "Python 3 (ipykernel)",
   "language": "python",
   "name": "python3"
  },
  "language_info": {
   "codemirror_mode": {
    "name": "ipython",
    "version": 3
   },
   "file_extension": ".py",
   "mimetype": "text/x-python",
   "name": "python",
   "nbconvert_exporter": "python",
   "pygments_lexer": "ipython3",
   "version": "3.11.7"
  }
 },
 "nbformat": 4,
 "nbformat_minor": 5
}
