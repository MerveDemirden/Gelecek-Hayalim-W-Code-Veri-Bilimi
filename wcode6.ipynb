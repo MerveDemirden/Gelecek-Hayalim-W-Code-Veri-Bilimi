{
 "cells": [
  {
   "cell_type": "code",
   "execution_count": 1,
   "id": "e44d5eea-ae5e-44fc-9ed4-6f6e912612c0",
   "metadata": {},
   "outputs": [
    {
     "name": "stdout",
     "output_type": "stream",
     "text": [
      "Öğrenciler:\n",
      "Merve\n",
      "Simge\n",
      "Berk\n",
      "\n",
      "Öğrencilerin notları:\n",
      "{'Matematik': 85, 'Fizik': 78, 'Biyoloji': 92}\n",
      "{'Matematik': 90, 'Fizik': 88, 'Biyoloji': 94}\n",
      "{'Matematik': 76, 'Fizik': 84, 'Biyoloji': 80}\n",
      "\n",
      "Öğrenciler ve notları:\n",
      "Merve: {'Matematik': 85, 'Fizik': 78, 'Biyoloji': 92}\n",
      "Simge: {'Matematik': 90, 'Fizik': 88, 'Biyoloji': 94}\n",
      "Berk: {'Matematik': 76, 'Fizik': 84, 'Biyoloji': 80}\n"
     ]
    },
    {
     "name": "stdin",
     "output_type": "stream",
     "text": [
      "\n",
      "Notunu görmek istediğiniz öğrencinin ismini girin:  Simge\n",
      "Hangi dersin notunu görmek istiyorsunuz? (Matematik, Fizik, Biyoloji):  Fizik \n"
     ]
    },
    {
     "name": "stdout",
     "output_type": "stream",
     "text": [
      "Simge adlı öğrenci veya Fizik  dersi bulunamadı.\n"
     ]
    },
    {
     "name": "stdin",
     "output_type": "stream",
     "text": [
      "\n",
      "Yeni bir öğrenci eklemek veya mevcut bir öğrencinin notunu değiştirmek ister misiniz? (evet/hayır):  evet\n",
      "Öğrencinin ismini girin:  gökçe\n"
     ]
    },
    {
     "name": "stdout",
     "output_type": "stream",
     "text": [
      "gökçe adlı öğrenci ekleniyor.\n"
     ]
    },
    {
     "name": "stdin",
     "output_type": "stream",
     "text": [
      "Matematik notu:  75\n",
      "Fizik notu:  87\n",
      "Biyoloji notu:  56\n"
     ]
    },
    {
     "name": "stdout",
     "output_type": "stream",
     "text": [
      "gökçe başarıyla eklendi veya notları güncellendi!\n",
      "\n",
      "\n",
      "Güncellenmiş tüm öğrenciler ve notları:\n",
      "Merve: {'Matematik': 85, 'Fizik': 78, 'Biyoloji': 92}\n",
      "Simge: {'Matematik': 90, 'Fizik': 88, 'Biyoloji': 94}\n",
      "Berk: {'Matematik': 76, 'Fizik': 84, 'Biyoloji': 80}\n",
      "gökçe: {'Matematik': 75, 'Fizik': 87, 'Biyoloji': 56}\n"
     ]
    }
   ],
   "source": [
    "ogrenciler = {\n",
    "    \"Merve\": {\"Matematik\": 85, \"Fizik\": 78, \"Biyoloji\": 92},\n",
    "    \"Simge\": {\"Matematik\": 90, \"Fizik\": 88, \"Biyoloji\": 94},\n",
    "    \"Berk\": {\"Matematik\": 76, \"Fizik\": 84, \"Biyoloji\": 80},\n",
    "}\n",
    "\n",
    "# isimlere erişim\n",
    "print(\"Öğrenciler:\")\n",
    "for isim in ogrenciler.keys():\n",
    "    print(isim)\n",
    "\n",
    "# notlara erişim\n",
    "print(\"\\nÖğrencilerin notları:\")\n",
    "for notlar in ogrenciler.values():\n",
    "    print(notlar)\n",
    "\n",
    "# Hem anahtarlara hem de değerlere aynı anda erişim\n",
    "print(\"\\nÖğrenciler ve notları:\")\n",
    "for isim, notlar in ogrenciler.items():\n",
    "    print(f\"{isim}: {notlar}\")\n",
    "\n",
    "# öğrenci ve ders bilgisi alınarak get metodu ile notları öğrenme\n",
    "isim = input(\"\\nNotunu görmek istediğiniz öğrencinin ismini girin: \")\n",
    "ders = input(\"Hangi dersin notunu görmek istiyorsunuz? (Matematik, Fizik, Biyoloji): \")\n",
    "\n",
    "# Get metodu ile güvenli not sorgulama\n",
    "ogrenci_notu = ogrenciler.get(isim, {}).get(ders, None)\n",
    "if ogrenci_notu is not None:\n",
    "    print(f\"{isim} adlı öğrencinin {ders} notu: {ogrenci_notu}\")\n",
    "else:\n",
    "    print(f\"{isim} adlı öğrenci veya {ders} dersi bulunamadı.\")\n",
    "\n",
    "# Yeni öğrenci ekleme veya var olan öğrencinin notunu değiştirme\n",
    "secim = input(\"\\nYeni bir öğrenci eklemek veya mevcut bir öğrencinin notunu değiştirmek ister misiniz? (evet/hayır): \")\n",
    "\n",
    "if secim.lower() == \"evet\":\n",
    "    yeni_isim = input(\"Öğrencinin ismini girin: \")\n",
    "    \n",
    "    # Eğer öğrenci daha önce eklendiyse notları güncelle, değilse yeni öğrenci ekle\n",
    "    if yeni_isim in ogrenciler:\n",
    "        print(f\"{yeni_isim} öğrencisinin notlarını güncelleyin.\")\n",
    "    else:\n",
    "        print(f\"{yeni_isim} adlı öğrenci ekleniyor.\")\n",
    "    \n",
    "    yeni_matematik = int(input(\"Matematik notu: \"))\n",
    "    yeni_fizik = int(input(\"Fizik notu: \"))\n",
    "    yeni_biyoloji = int(input(\"Biyoloji notu: \"))\n",
    "\n",
    "    # Yeni öğrenci ekleme veya not güncelleme\n",
    "    ogrenciler[yeni_isim] = {\n",
    "        \"Matematik\": yeni_matematik,\n",
    "        \"Fizik\": yeni_fizik,\n",
    "        \"Biyoloji\": yeni_biyoloji\n",
    "    }\n",
    "    print(f\"{yeni_isim} başarıyla eklendi veya notları güncellendi!\\n\")\n",
    "\n",
    "# Tüm öğrencileri ve notlarını tekrar gösterme\n",
    "print(\"\\nGüncellenmiş tüm öğrenciler ve notları:\")\n",
    "for isim, notlar in ogrenciler.items():\n",
    "    print(f\"{isim}: {notlar}\")"
   ]
  },
  {
   "cell_type": "code",
   "execution_count": null,
   "id": "0687c4d3-d20c-45a7-a04e-c1591e18443f",
   "metadata": {},
   "outputs": [],
   "source": []
  }
 ],
 "metadata": {
  "kernelspec": {
   "display_name": "Python 3 (ipykernel)",
   "language": "python",
   "name": "python3"
  },
  "language_info": {
   "codemirror_mode": {
    "name": "ipython",
    "version": 3
   },
   "file_extension": ".py",
   "mimetype": "text/x-python",
   "name": "python",
   "nbconvert_exporter": "python",
   "pygments_lexer": "ipython3",
   "version": "3.11.7"
  }
 },
 "nbformat": 4,
 "nbformat_minor": 5
}
