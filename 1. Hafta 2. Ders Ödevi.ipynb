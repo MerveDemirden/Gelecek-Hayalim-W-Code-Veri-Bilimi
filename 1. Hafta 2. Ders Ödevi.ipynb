{
 "cells": [
  {
   "cell_type": "markdown",
   "id": "577c4c51-0ea3-4ac9-a596-649d3c0034cb",
   "metadata": {},
   "source": [
    "ÖDEV - 2\n",
    "\n",
    "Ödev-1: Kullanıcıdan maaş bilgisini istenir ve bu bilgiye göre maaşından ne kadar vergi kesileceğini hesaplanır. Kullanıcının geliri;\r\n",
    "\r\n",
    "\r\n",
    " 10000 ve altındaysa maaşından %5 kesinti olur. \r\n",
    " 25000 ve altındaysa maaşından %10 kesinti olur. \r\n",
    " 45000 ve altındaysa maaşından %25 kesinti olur. \r\n",
    " Diğer koşullarda %30 kesinti olur. \r\n",
    "\r\n",
    "Bu durumlara göre kullanıcının yeni maaşı yazdırılır."
   ]
  },
  {
   "cell_type": "code",
   "execution_count": 1,
   "id": "ddcfbd55-a486-4aca-bb55-b5000a506b0d",
   "metadata": {},
   "outputs": [
    {
     "name": "stdin",
     "output_type": "stream",
     "text": [
      "Maaşınızı girin:  45000\n"
     ]
    },
    {
     "name": "stdout",
     "output_type": "stream",
     "text": [
      "Kesinti oranı: %25.0\n",
      "Yeni maaşınız: 33750.0\n"
     ]
    }
   ],
   "source": [
    "maas = float(input(\"Maaşınızı girin: \"))\n",
    "\n",
    "if maas <= 10000:\n",
    "    kesinti_orani = 0.05\n",
    "elif maas<= 25000:\n",
    "    kesinti_orani = 0.10\n",
    "elif maas <= 45000:\n",
    "    kesinti_orani = 0.25\n",
    "else: \n",
    "    kesinti_orani = 0.30\n",
    "    \n",
    "kesinti_miktari = maas * kesinti_orani\n",
    "yeni_maas = maas - kesinti_miktari\n",
    "\n",
    "print(f\"Kesinti oranı: %{kesinti_orani * 100}\")\n",
    "print(f\"Yeni maaşınız: {yeni_maas}\")\n"
   ]
  },
  {
   "cell_type": "markdown",
   "id": "58b5761f-2638-4db0-880e-7d436ab091e7",
   "metadata": {},
   "source": [
    "Ödev-2: Kullanıcıdan kullanıcı adı ve şifre oluşturmasını istenir. Şifrenin uzunluğu altı haneye ulaşmışsa hesabınız oluşturuldu mesajı alınır, altı haneden azsa altı haneli şifre oluşturması gerektiğinin mesajı alınır. (Sadece koşul kullanılması yeterli.)"
   ]
  },
  {
   "cell_type": "code",
   "execution_count": 2,
   "id": "8aadd75b-d920-45f5-8010-9c885e17100b",
   "metadata": {},
   "outputs": [
    {
     "name": "stdin",
     "output_type": "stream",
     "text": [
      "Kullanıcı adını giriniz:  merve\n",
      "Lütfen şifre oluşturunuz: 1234567\n"
     ]
    },
    {
     "name": "stdout",
     "output_type": "stream",
     "text": [
      "Hesabınız ulaştırıldı.\n"
     ]
    }
   ],
   "source": [
    "kullanici_Adi = input(\"Kullanıcı adını giriniz: \")\n",
    "sifre = input(\"Lütfen şifre oluşturunuz:\")\n",
    "\n",
    "if len(sifre) >= 6:\n",
    "    print(\"Hesabınız ulaştırıldı.\")\n",
    "else:\n",
    "    print(\"Lütfen altı haneli bir şifre oluşturun!\")"
   ]
  },
  {
   "cell_type": "markdown",
   "id": "f5837d6f-a6c2-471e-a103-2e3216745d5e",
   "metadata": {},
   "source": [
    "Ödev-3: Bir önceki örnek geliştirilir.\r\n",
    "\r\n",
    "\r\n",
    " Kullanıcı girdiği şifre 5 ve 10 hane arasında olmak zorunda. \r\n",
    " Eğer bu koşula uyuyorsa \"Hesabınız oluşturuldu.\" mesajı alır. \r\n",
    " Koşulu sağlamıyorsa \"Lütfen girdiniz şifre 5 haneden az 10 haneden fazla olmasın!\" uyarısı alır. \r\n",
    " Bunu oluştururken kullanıcı istediğimiz şartlarda şifre oluşturana kadar sormaya devam eder "
   ]
  },
  {
   "cell_type": "code",
   "execution_count": 3,
   "id": "01e62b80-9260-4b41-b719-ae9c8079f329",
   "metadata": {},
   "outputs": [
    {
     "name": "stdin",
     "output_type": "stream",
     "text": [
      "Şifrenizi oluşturun:  344545656\n"
     ]
    },
    {
     "name": "stdout",
     "output_type": "stream",
     "text": [
      "Hesabınız oluşturuldu.\n"
     ]
    }
   ],
   "source": [
    "sifre = input(\"Şifrenizi oluşturun: \")\n",
    "\n",
    "while not (5 <= len(sifre) <= 10):\n",
    "    print(\"Lütfen girdiniz şifre 5 haneden az, 10 haneden fazla olmasın!\")\n",
    "    sifre = input(\"Tekrar şifre girin: \")\n",
    "\n",
    "print(\"Hesabınız oluşturuldu.\")"
   ]
  },
  {
   "cell_type": "markdown",
   "id": "58411110-a270-45a3-a98c-2181070ed8c6",
   "metadata": {},
   "source": [
    "Ödev-4: Kullanıcıdan isim ve şifre isteyeceğiz ve şifre girişi için üç hak verilir.\r\n",
    "\r\n",
    "\r\n",
    " Eğer önceden tanımlı şifre ile kullanıcıdan gelen şifre aynıysa \"Giriş yapıldı.\" yazar. \r\n",
    " Şifre girişi yanlışsa \"Yanlış şifre girildi!\" uyarısı verilsin ve üç yanlış denemede program biter. \r\n",
    " Tercihe göre kalan hak bilgisi verilir. "
   ]
  },
  {
   "cell_type": "code",
   "execution_count": 4,
   "id": "d8558bd7-2f8d-4b49-888b-622d205017d6",
   "metadata": {},
   "outputs": [
    {
     "name": "stdin",
     "output_type": "stream",
     "text": [
      "Şifrenizi girin:  2323\n"
     ]
    },
    {
     "name": "stdout",
     "output_type": "stream",
     "text": [
      "Yanlış şifre! Kalan hakkınız: 2\n"
     ]
    },
    {
     "name": "stdin",
     "output_type": "stream",
     "text": [
      "Şifrenizi girin:  232334\n"
     ]
    },
    {
     "name": "stdout",
     "output_type": "stream",
     "text": [
      "Yanlış şifre! Kalan hakkınız: 1\n"
     ]
    },
    {
     "name": "stdin",
     "output_type": "stream",
     "text": [
      "Şifrenizi girin:  123\n"
     ]
    },
    {
     "name": "stdout",
     "output_type": "stream",
     "text": [
      "Hakkınız doldu. Program sonlandırılıyor.\n"
     ]
    }
   ],
   "source": [
    "dogru_sifre = \"123456\"\n",
    "\n",
    "hak_sayisi = 3\n",
    "\n",
    "while hak_sayisi > 0:\n",
    "    kullanici_sifre = input(\"Şifrenizi girin: \")\n",
    "    \n",
    "    if kullanici_sifre == dogru_sifre:\n",
    "        print(\"Giriş yapıldı.\")\n",
    "        break\n",
    "    else:\n",
    "        hak_sayisi -= 1\n",
    "        if hak_sayisi > 0:\n",
    "            print(f\"Yanlış şifre! Kalan hakkınız: {hak_sayisi}\")\n",
    "        else:\n",
    "            print(\"Hakkınız doldu. Program sonlandırılıyor.\")"
   ]
  },
  {
   "cell_type": "code",
   "execution_count": null,
   "id": "7593707a-3675-4ff7-9b36-9476a2ce76fb",
   "metadata": {},
   "outputs": [],
   "source": []
  }
 ],
 "metadata": {
  "kernelspec": {
   "display_name": "Python 3 (ipykernel)",
   "language": "python",
   "name": "python3"
  },
  "language_info": {
   "codemirror_mode": {
    "name": "ipython",
    "version": 3
   },
   "file_extension": ".py",
   "mimetype": "text/x-python",
   "name": "python",
   "nbconvert_exporter": "python",
   "pygments_lexer": "ipython3",
   "version": "3.11.7"
  }
 },
 "nbformat": 4,
 "nbformat_minor": 5
}
