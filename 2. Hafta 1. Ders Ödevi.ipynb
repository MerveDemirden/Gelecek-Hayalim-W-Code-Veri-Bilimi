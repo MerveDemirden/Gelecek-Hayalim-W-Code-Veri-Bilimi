{
 "cells": [
  {
   "cell_type": "markdown",
   "id": "b5a0fa64-ffad-4e2b-ad43-c7beebc6cd47",
   "metadata": {},
   "source": [
    "2. Hafta 1. Ders Ödevi"
   ]
  },
  {
   "cell_type": "markdown",
   "id": "302145f7-5eb9-4b3e-a3be-43a577f35267",
   "metadata": {},
   "source": [
    "Kullanıcıdan pi değeri ve yarıçap bilgisi alarak dairenin alanını hesaplayan bir fonksiyon oluşturulur."
   ]
  },
  {
   "cell_type": "code",
   "execution_count": 3,
   "id": "ddec2262-0139-4bfc-8c92-8f83ebffe151",
   "metadata": {},
   "outputs": [
    {
     "name": "stdin",
     "output_type": "stream",
     "text": [
      "Lütfen pi değerini giriniz:  3.14\n",
      "Lütfen yarı çapı giriniz:  5\n"
     ]
    },
    {
     "name": "stdout",
     "output_type": "stream",
     "text": [
      "Dairenin alanı: 78.5\n"
     ]
    }
   ],
   "source": [
    "def daire_alani(pi, yaricap):\n",
    "    alan = pi * (yaricap**2)\n",
    "    return alan \n",
    "\n",
    "pi = float(input(\"Lütfen pi değerini giriniz: \"))\n",
    "yaricap = float(input(\"Lütfen yarı çapı giriniz: \"))\n",
    "\n",
    "alan = daire_alani(pi, yaricap)\n",
    "print(f\"Dairenin alanı: {alan}\")\n"
   ]
  },
  {
   "cell_type": "markdown",
   "id": "7ad97665-cb6c-4a9a-9960-bad173c97e9b",
   "metadata": {},
   "source": [
    "• Faktöriyel adında fonksiyon oluşturulur. Döngü kullanarak parametre olarak girilen sayının faktöriyeli hesaplanır. Format metodunu kullanılarak ekrana yazdırılır.\r\n",
    "\r\n"
   ]
  },
  {
   "cell_type": "code",
   "execution_count": 4,
   "id": "9951c3d6-d33d-46c4-b6dd-23875b79cd68",
   "metadata": {},
   "outputs": [
    {
     "name": "stdin",
     "output_type": "stream",
     "text": [
      "Faktöriyeli hesaplanacak sayı:  5\n"
     ]
    },
    {
     "name": "stdout",
     "output_type": "stream",
     "text": [
      "Faktöriyel sonucu: 120\n"
     ]
    }
   ],
   "source": [
    "def faktoriyel(sayi):\n",
    "    sonuc = 1\n",
    "    for i in range(1, sayi + 1):\n",
    "        sonuc *= i\n",
    "    return sonuc\n",
    "sayi = int(input(\"Faktöriyeli hesaplanacak sayı: \"))\n",
    "\n",
    "sonuc = faktoriyel(sayi)\n",
    "print(\"Faktöriyel sonucu: {}\".format(sonuc))"
   ]
  },
  {
   "cell_type": "markdown",
   "id": "fd5b8a5e-190d-4543-aa53-191e6f236bd2",
   "metadata": {},
   "source": [
    "• Kişinin fonksiyona doğum yılını vererek kaç yaşında olduğunu hesaplayan bir fonksiyon oluşturun. \r\n",
    "\r\n"
   ]
  },
  {
   "cell_type": "code",
   "execution_count": 5,
   "id": "ac355fee-e722-46dc-b347-66b30a958a16",
   "metadata": {},
   "outputs": [
    {
     "name": "stdin",
     "output_type": "stream",
     "text": [
      "Doğum yılınız:  1998\n"
     ]
    },
    {
     "name": "stdout",
     "output_type": "stream",
     "text": [
      "Yaşınız: 26\n"
     ]
    }
   ],
   "source": [
    "def yas_hesaplama(dogum_yili, mevcut_yil):\n",
    "    yas = mevcut_yil - dogum_yili\n",
    "    return yas\n",
    "\n",
    "dogum_yili = int(input(\"Doğum yılınız: \"))\n",
    "mevcut_yil = 2024\n",
    "\n",
    "yas = yas_hesaplama(dogum_yili, mevcut_yil)\n",
    "print(f\"Yaşınız: {yas}\")"
   ]
  },
  {
   "cell_type": "markdown",
   "id": "6f714110-6255-4f0e-a317-17fcf594dfaa",
   "metadata": {},
   "source": [
    "• Doğum yılı ve isim bilgisi verilen fonksiyon kişinin emekli olup olmadığını söylesin.(Kişi 65 yaşında ise emekli olur.) Burada yaş hesabını yukarıdaki örnekteki fonksiyonu kullanarak yapsın.(Yani fonksiyon içinde fonksiyon kullanmanızı istiyorum :)) Kişi 65 yaşında ya da daha fazlaysa \"Emekli oldunuz\" yanıtını, 65 yaşından küçükse emekliliğine kaç yıl kaldığını da hesaplayarak \"(isim) emekliliğine (yıl) kaldı.\" yanıtını versin."
   ]
  },
  {
   "cell_type": "code",
   "execution_count": 9,
   "id": "5023f894-f8fb-48e0-ad91-e466f3ee4777",
   "metadata": {},
   "outputs": [
    {
     "name": "stdin",
     "output_type": "stream",
     "text": [
      "Adınız:  Selami\n",
      "Doğum yılınız:  1963\n"
     ]
    },
    {
     "name": "stdout",
     "output_type": "stream",
     "text": [
      "Selami, emekliliğinize 4 yıl kaldı.\n"
     ]
    }
   ],
   "source": [
    "def yas_hesaplama(dogum_yili, mevcut_yil):\n",
    "    yas = mevcut_yil - dogum_yili\n",
    "    return yas\n",
    "\n",
    "def emeklilik_durumu(isim, dogum_yili):\n",
    "    mevcut_yil = 2024 \n",
    "    yas = yas_hesapla(dogum_yili, mevcut_yil)\n",
    "    \n",
    "    if yas >= 65:\n",
    "        print(f\"{isim}, emekli oldunuz.\")\n",
    "    else:\n",
    "        kalan_yil = 65 - yas\n",
    "        print(f\"{isim}, emekliliğinize {kalan_yil} yıl kaldı.\")\n",
    "\n",
    "isim = input(\"Adınız: \")\n",
    "dogum_yili = int(input(\"Doğum yılınız: \"))\n",
    "\n",
    "emeklilik_durumu(isim, dogum_yili)"
   ]
  },
  {
   "cell_type": "code",
   "execution_count": null,
   "id": "8ba1cf0c-3dd1-4c41-98aa-5f6519540b7f",
   "metadata": {},
   "outputs": [],
   "source": []
  }
 ],
 "metadata": {
  "kernelspec": {
   "display_name": "Python 3 (ipykernel)",
   "language": "python",
   "name": "python3"
  },
  "language_info": {
   "codemirror_mode": {
    "name": "ipython",
    "version": 3
   },
   "file_extension": ".py",
   "mimetype": "text/x-python",
   "name": "python",
   "nbconvert_exporter": "python",
   "pygments_lexer": "ipython3",
   "version": "3.11.7"
  }
 },
 "nbformat": 4,
 "nbformat_minor": 5
}
