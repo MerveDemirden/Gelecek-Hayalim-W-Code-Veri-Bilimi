{
 "cells": [
  {
   "cell_type": "markdown",
   "id": "4c6d73ff-ecb1-49ee-bfde-211c78714128",
   "metadata": {},
   "source": [
    "ÖDEV \n"
   ]
  },
  {
   "cell_type": "markdown",
   "id": "cc467976-e69e-4432-b9e5-1e8963a19647",
   "metadata": {},
   "source": [
    "ÖDEV-1: Değişkenlere atanmış değerlerin veri tipleri arasında dönüşüm yapılır."
   ]
  },
  {
   "cell_type": "code",
   "execution_count": 1,
   "id": "07efac5c-0ffe-451d-bccf-18133af563a9",
   "metadata": {},
   "outputs": [],
   "source": [
    "x = 2\n",
    "y = 11.7\n",
    "z = \"23\""
   ]
  },
  {
   "cell_type": "code",
   "execution_count": 4,
   "id": "ef68d1b1-3248-42c5-bba4-0a78b982d4b2",
   "metadata": {},
   "outputs": [
    {
     "name": "stdout",
     "output_type": "stream",
     "text": [
      "2.0 11 23\n"
     ]
    }
   ],
   "source": [
    "x_float = float(x)\n",
    "y_int = int(y)\n",
    "z_int = int(z)\n",
    "print(x_float, y_int, z_int)"
   ]
  },
  {
   "cell_type": "markdown",
   "id": "bd433c99-8402-41ba-b8a7-df16b6251e87",
   "metadata": {},
   "source": [
    "ÖDEV - 2: İsimlerden oluşan üç değişkene yaş değerleri atanır. Belirlenen üç değişken birbiriyle karşılaştırma operatörleri ile karşılaştırılır. Bu karşılaştırmalara mantıksal operatörler de eklenir.\n",
    "\n",
    "\n",
    "\n"
   ]
  },
  {
   "cell_type": "code",
   "execution_count": 6,
   "id": "fd1f003d-c910-411f-96e0-f83dabb34a80",
   "metadata": {},
   "outputs": [],
   "source": [
    "merve_yas = 26\n",
    "pinar_yas = 36 \n",
    "selami_yas = 61 "
   ]
  },
  {
   "cell_type": "code",
   "execution_count": 8,
   "id": "aa0bfbb9-73a8-4a9b-b2c2-1324b5faacb6",
   "metadata": {},
   "outputs": [
    {
     "name": "stdout",
     "output_type": "stream",
     "text": [
      "Pınar Merve'den büyüktür.\n"
     ]
    }
   ],
   "source": [
    "if pinar_yas > merve_yas:\n",
    "    print(\"Pınar Merve'den büyüktür.\")\n",
    "\n"
   ]
  },
  {
   "cell_type": "code",
   "execution_count": 10,
   "id": "f7bec30c-f0b4-4c7c-a02f-134efdefd516",
   "metadata": {},
   "outputs": [
    {
     "name": "stdout",
     "output_type": "stream",
     "text": [
      "Merve, Selami ve Pınar'dan küçüktür.\n"
     ]
    }
   ],
   "source": [
    "if merve_yas > selami_yas and merve_yas < pinar_yas:\n",
    "    print(\"Merve, Selami'den büyük ve Pınar'dan küçüktür.\")\n",
    "else: \n",
    "    print(\"Merve, Selami ve Pınar'dan küçüktür.\")"
   ]
  },
  {
   "cell_type": "code",
   "execution_count": 12,
   "id": "c38e8adf-7f11-42f9-9f0f-ea94e24bb3cf",
   "metadata": {},
   "outputs": [
    {
     "name": "stdout",
     "output_type": "stream",
     "text": [
      "Pınar, Selami'den küçük veya 36 yaşındadır.\n"
     ]
    }
   ],
   "source": [
    "if pinar_yas <= selami_yas or pinar_yas == 36:\n",
    "    print(\"Pınar, Selami'den küçük veya 36 yaşındadır.\")"
   ]
  },
  {
   "cell_type": "markdown",
   "id": "9a2c4193-aee1-4a6e-a485-2936fb1f975b",
   "metadata": {},
   "source": [
    "ÖDEV -3:  Kullanıcıdan iki değer girmesini istenir. Girilen değerlerin toplama, çıkarma, çarpma, bölme sonuçlarını yazdırılır."
   ]
  },
  {
   "cell_type": "code",
   "execution_count": 13,
   "id": "4fe13234-c4b7-4ad5-a97d-5c25695bc8b6",
   "metadata": {},
   "outputs": [
    {
     "name": "stdin",
     "output_type": "stream",
     "text": [
      "Birinci sayıyı giriniz:  5\n",
      "İkinci sayıyı giriniz:  2\n"
     ]
    },
    {
     "name": "stdout",
     "output_type": "stream",
     "text": [
      "toplama: 7.0\n",
      "çıkarma:3.0\n",
      "çarpma: 10.0\n",
      "bölme: 2.5\n"
     ]
    }
   ],
   "source": [
    "sayi_1 = float(input(\"Birinci sayıyı giriniz: \"))\n",
    "sayi_2 = float(input(\"İkinci sayıyı giriniz: \"))\n",
    "\n",
    "toplama = sayi_1 + sayi_2\n",
    "cikarma = sayi_1 - sayi_2\n",
    "carpma = sayi_1 * sayi_2\n",
    "bolme = sayi_1 / sayi_2\n",
    "\n",
    "print(f\"toplama: {toplama}\")\n",
    "print(f\"çıkarma:{cikarma}\")\n",
    "print(f\"çarpma: {carpma}\")\n",
    "print(f\"bölme: {bolme}\")"
   ]
  },
  {
   "cell_type": "markdown",
   "id": "d41b9c3e-522a-4571-af07-11ea754ec48d",
   "metadata": {},
   "source": [
    "ÖDEV - 4: Kullanıcıdan isim, yaş, şehir ve meslek bilgilerini istenir ve cevaplarını yazdırılır."
   ]
  },
  {
   "cell_type": "code",
   "execution_count": 15,
   "id": "46fc6812-f1f4-4b45-a639-4655e0ea9d32",
   "metadata": {},
   "outputs": [
    {
     "name": "stdin",
     "output_type": "stream",
     "text": [
      "Adınız nedir?  Merve\n",
      "Yaşınız kaç? 26\n",
      "Yaşadığınız şehir? Ankara\n",
      "Mesleğiniz nedir? Öğrenci\n"
     ]
    },
    {
     "name": "stdout",
     "output_type": "stream",
     "text": [
      "İsim: Merve, Yaş: 26, Şehir:Ankara, Meslek: Öğrenci\n"
     ]
    }
   ],
   "source": [
    "isim = input(\"Adınız nedir? \")\n",
    "yas = input(\"Yaşınız kaç?\" )\n",
    "sehir = input (\"Yaşadığınız şehir?\")\n",
    "meslek = input (\"Mesleğiniz nedir?\")\n",
    "\n",
    "print(f\"İsim: {isim}, Yaş: {yas}, Şehir:{sehir}, Meslek: {meslek}\")\n",
    "            "
   ]
  },
  {
   "cell_type": "markdown",
   "id": "2a9df604-e914-4a41-9328-c4b6e7ee9ce4",
   "metadata": {},
   "source": [
    "ÖDEV - 5: \"Hi-Kod Veri Bilimi Atölyesi\" ifadesini bir değişkene tanımlanır.\r\n",
    "\r\n",
    "İfadedeki her bir kelimeyi (\"Gelecek Hayalim: W-Code\", \"Veri\", \"Bilimi\", \"Atölyesi\") değişken içinden seçilir.\r\n",
    "\r\n",
    "İfadeyi hepsini büyük harf olacak hale çevrilir. (\"GELECEK HAYALİM: W-CODE VERİ BİLİMİ ATÖLYESİ\")\r\n",
    "\r\n",
    "İfadeyi hepsini büyük harf olacak hale çevrilir.(\"gelecek hayalim: w-code veri bilimi atölyesi\")\r\n",
    "\r\n",
    "\"0123456789\" ifadesindeki yalnızca çift sayıları ve yalnızca tek sayıları seçilir. (\"02468\", \"13579\")"
   ]
  },
  {
   "cell_type": "code",
   "execution_count": 16,
   "id": "55150bf6-49ed-4d53-ab9a-29a45b73ff70",
   "metadata": {},
   "outputs": [
    {
     "name": "stdout",
     "output_type": "stream",
     "text": [
      "GELECEK HAYALIM: W-CODE VERI BILIMI ATÖLYESI\n",
      "gelecek hayalim: w-code veri bilimi atölyesi\n",
      "Çift sayılar: 02468\n",
      "Tek sayılar: 13579\n"
     ]
    }
   ],
   "source": [
    "ifade = \"Hi-Kod Veri Bilimi Atölyesi\"\n",
    "\n",
    "kelime1 = \"Gelecek Hayalim: W-Code\"\n",
    "kelime2 = ifade.split()[1] \n",
    "kelime3 = ifade.split()[2] \n",
    "kelime4 = ifade.split()[3]  \n",
    "\n",
    "buyuk_harf = f\"{kelime1.upper()} {kelime2.upper()} {kelime3.upper()} {kelime4.upper()}\"\n",
    "print(buyuk_harf)\n",
    "\n",
    "kucuk_harf = buyuk_harf.lower()\n",
    "print(kucuk_harf)\n",
    "\n",
    "sayi_ifadesi = \"0123456789\"\n",
    "cift_sayilar = sayi_ifadesi[::2]  \n",
    "tek_sayilar = sayi_ifadesi[1::2] \n",
    "\n",
    "print(f\"Çift sayılar: {cift_sayilar}\")\n",
    "print(f\"Tek sayılar: {tek_sayilar}\")"
   ]
  },
  {
   "cell_type": "code",
   "execution_count": null,
   "id": "51ad549b-7ad4-4340-b8b3-5a65a4ede823",
   "metadata": {},
   "outputs": [],
   "source": []
  }
 ],
 "metadata": {
  "kernelspec": {
   "display_name": "Python 3 (ipykernel)",
   "language": "python",
   "name": "python3"
  },
  "language_info": {
   "codemirror_mode": {
    "name": "ipython",
    "version": 3
   },
   "file_extension": ".py",
   "mimetype": "text/x-python",
   "name": "python",
   "nbconvert_exporter": "python",
   "pygments_lexer": "ipython3",
   "version": "3.11.7"
  }
 },
 "nbformat": 4,
 "nbformat_minor": 5
}
