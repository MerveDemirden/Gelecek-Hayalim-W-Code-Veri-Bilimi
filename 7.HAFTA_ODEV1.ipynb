{
 "cells": [
  {
   "cell_type": "markdown",
   "id": "f0006308-9b3e-400f-b0c8-e5b12bb8bdb7",
   "metadata": {},
   "source": [
    "7. HAFTA 1. ÖDEV:\n",
    "   \n",
    "sozluk = {\"Kategori\": [\"Giyim\",\"Giyim\", \"Ayakkabı\",\"Aksesuar\",\"Ayakkabı\",\"Giyim\",\"Aksesuar\",\"Aksesuar\",\"Ayakkabı\",\"Giyim\"],\r\n",
    "\r\n",
    "\r\n",
    "  \"Ürün\" : [\"Kazak\",\"T-shirt\",\"Sandalet\",\"Küpe\",\"Spor Ayakkabı\",\"Pantolon\",\"Kolye\",\"Yüzük\",\"Çizme\",\"Ceket\"],\r\n",
    "\r\n",
    "\r\n",
    "\"Fiyat\" : [300,180,450,50,700,400,150,80,850,900]}\r\n",
    "\r\n",
    "\r\n",
    " Yukarıdaki sözlük DataFrame’e dönüştürülür. \r\n",
    " Yukarıdaki DataFrame için \r\n",
    "\r\n",
    " 2.indexte bulunan kategori bulunur. (Sadece kategori bilgisi) \r\n",
    " 2. indexte bulunan ürün bulunur. (Sadece ürün bilgisi) \r\n",
    " 4.indexten 9.indexe kadar olan veriler bulunur. (Kategori,ürün,fiyat bilgisi beraber) \r\n",
    " 1.indexten 6.indexe kadar olan ürünler bulunur. (Sadece ürün bilgisi) \r\n",
    "\r\n",
    " Yukarıdaki DataFrame için \r\n",
    "\r\n",
    " Giyim kategorisinde bulunan ürünler gösterilir. \r\n",
    " Ayakkabı kategorisinde bulunan ürünler gösterilir. \r\n",
    " Aksesuar kategorisinde bulunan ürünler gösterilir. \r\n",
    "\r\n",
    " Yukarıdaki DataFrame için \r\n",
    "\r\n",
    " Giyim kategorisinde fiyatı 300'den fazla olan ürünler gösterilir. \r\n",
    " Ayakkabı kategorisinde fiyatı 600'den az olan ürünler gösterilir. \r\n",
    " Aksesuar kategorisinde fiyatı 100'den fazla olan aksesuar gösterilir. "
   ]
  },
  {
   "cell_type": "code",
   "execution_count": 13,
   "id": "e2f59537-7dce-4c8e-8309-701fb6a50d4d",
   "metadata": {},
   "outputs": [],
   "source": [
    "#1. Verilen sözlükten DataFrame oluşturma \n",
    "import pandas as pd\n",
    "\n",
    "sozluk = {\"Kategori\": [\"Giyim\",\"Giyim\", \"Ayakkabı\",\"Aksesuar\",\"Ayakkabı\",\"Giyim\",\"Aksesuar\",\"Aksesuar\",\"Ayakkabı\",\"Giyim\"],\n",
    "\"Ürün\" : [\"Kazak\",\"T-shirt\",\"Sandalet\",\"Küpe\",\"Spor Ayakkabı\",\"Pantolon\",\"Kolye\",\"Yüzük\",\"Çizme\",\"Ceket\"],\n",
    "\n",
    "\"Fiyat\" : [300,180,450,50,700,400,150,80,850,900]}"
   ]
  },
  {
   "cell_type": "code",
   "execution_count": 14,
   "id": "5988522b-2625-4805-9e8d-5641fc5a573b",
   "metadata": {},
   "outputs": [],
   "source": [
    "df = pd.DataFrame(sozluk)"
   ]
  },
  {
   "cell_type": "code",
   "execution_count": 15,
   "id": "9c19c676-9842-4b5c-85ff-e7285cc92272",
   "metadata": {},
   "outputs": [
    {
     "name": "stdout",
     "output_type": "stream",
     "text": [
      "   Kategori           Ürün  Fiyat\n",
      "0     Giyim          Kazak    300\n",
      "1     Giyim        T-shirt    180\n",
      "2  Ayakkabı       Sandalet    450\n",
      "3  Aksesuar           Küpe     50\n",
      "4  Ayakkabı  Spor Ayakkabı    700\n",
      "5     Giyim       Pantolon    400\n",
      "6  Aksesuar          Kolye    150\n",
      "7  Aksesuar          Yüzük     80\n",
      "8  Ayakkabı          Çizme    850\n",
      "9     Giyim          Ceket    900\n"
     ]
    }
   ],
   "source": [
    "print(df)"
   ]
  },
  {
   "cell_type": "code",
   "execution_count": 17,
   "id": "136e38ab-a3b4-4ed7-a983-0e4ecdfef955",
   "metadata": {},
   "outputs": [
    {
     "name": "stdout",
     "output_type": "stream",
     "text": [
      "Ayakkabı\n"
     ]
    }
   ],
   "source": [
    "#2. Yukarıdaki DataFrame için;\n",
    "\n",
    "#2.1. 2. indexte bulunan kategori \n",
    "kategori_index_2 = df.loc[2, 'Kategori']\n",
    "print(kategori_index_2)"
   ]
  },
  {
   "cell_type": "code",
   "execution_count": 18,
   "id": "d18b6f75-a51c-40f0-9237-dce10f83a33c",
   "metadata": {},
   "outputs": [
    {
     "name": "stdout",
     "output_type": "stream",
     "text": [
      "Sandalet\n"
     ]
    }
   ],
   "source": [
    "#2.2. 2. indexte bulunan ürün \n",
    "urun_index_2 = df.loc[2, 'Ürün']\n",
    "print(urun_index_2)"
   ]
  },
  {
   "cell_type": "code",
   "execution_count": 19,
   "id": "33274190-6ebc-43a0-b25e-a405a7953dd3",
   "metadata": {},
   "outputs": [
    {
     "name": "stdout",
     "output_type": "stream",
     "text": [
      "   Kategori           Ürün  Fiyat\n",
      "4  Ayakkabı  Spor Ayakkabı    700\n",
      "5     Giyim       Pantolon    400\n",
      "6  Aksesuar          Kolye    150\n",
      "7  Aksesuar          Yüzük     80\n",
      "8  Ayakkabı          Çizme    850\n",
      "9     Giyim          Ceket    900\n"
     ]
    }
   ],
   "source": [
    "#2.3. 4.indexten 9.iindexe kadar olan veriler(kategori,ürün,fiyat bilgisi)\n",
    "veriler = df.loc[4:9, ['Kategori','Ürün','Fiyat']]\n",
    "print(veriler)"
   ]
  },
  {
   "cell_type": "code",
   "execution_count": 22,
   "id": "5885e9d3-b87f-478b-bbb1-549a1c72161a",
   "metadata": {},
   "outputs": [
    {
     "name": "stdout",
     "output_type": "stream",
     "text": [
      "1          T-shirt\n",
      "2         Sandalet\n",
      "3             Küpe\n",
      "4    Spor Ayakkabı\n",
      "5         Pantolon\n",
      "6            Kolye\n",
      "Name: Ürün, dtype: object\n"
     ]
    }
   ],
   "source": [
    "#2.4. 1.indexten 6.indexe kadar olan ürünler\n",
    "urun_1_6 = df.loc[1:6, 'Ürün']\n",
    "print(urun_1_6)"
   ]
  },
  {
   "cell_type": "code",
   "execution_count": 24,
   "id": "41b696a0-5017-4c87-b5fb-374fc6275a11",
   "metadata": {},
   "outputs": [
    {
     "name": "stdout",
     "output_type": "stream",
     "text": [
      "0       Kazak\n",
      "1     T-shirt\n",
      "5    Pantolon\n",
      "9       Ceket\n",
      "Name: Ürün, dtype: object\n"
     ]
    }
   ],
   "source": [
    "#3. Kategoriye göre ürünleri gösterme\n",
    "\n",
    "#3.1.  Giyim kategorisinde bulunan ürünler gösterilir. \n",
    "giyim_urunleri = df[df['Kategori']=='Giyim']['Ürün']\n",
    "print(giyim_urunleri)"
   ]
  },
  {
   "cell_type": "code",
   "execution_count": 25,
   "id": "dac40338-abc2-4d95-b369-0a30926fd799",
   "metadata": {},
   "outputs": [
    {
     "name": "stdout",
     "output_type": "stream",
     "text": [
      "2         Sandalet\n",
      "4    Spor Ayakkabı\n",
      "8            Çizme\n",
      "Name: Ürün, dtype: object\n"
     ]
    }
   ],
   "source": [
    "#3.2. Ayakkabı kategorisinde bulunan ürünler gösterilir. \n",
    "ayakkabi_urun = df[df['Kategori']=='Ayakkabı']['Ürün']\n",
    "print(ayakkabi_urun)"
   ]
  },
  {
   "cell_type": "code",
   "execution_count": 27,
   "id": "38926829-8cd0-4cf4-9dbb-6b139e439b9f",
   "metadata": {},
   "outputs": [
    {
     "name": "stdout",
     "output_type": "stream",
     "text": [
      "3     Küpe\n",
      "6    Kolye\n",
      "7    Yüzük\n",
      "Name: Ürün, dtype: object\n"
     ]
    }
   ],
   "source": [
    "#3.3.  Aksesuar kategorisinde bulunan ürünler gösterilir. \n",
    "aksesuar_urun = df[df['Kategori']=='Aksesuar']['Ürün']\n",
    "print(aksesuar_urun)"
   ]
  },
  {
   "cell_type": "code",
   "execution_count": 31,
   "id": "548ff626-f4e3-42db-a125-a9b030d781f8",
   "metadata": {},
   "outputs": [
    {
     "name": "stdout",
     "output_type": "stream",
     "text": [
      "  Kategori      Ürün  Fiyat\n",
      "5    Giyim  Pantolon    400\n",
      "9    Giyim     Ceket    900\n"
     ]
    }
   ],
   "source": [
    "#4. Fiyat Filtreleme\n",
    "\n",
    "#4.1. Giyim kategorisinde fiyatı 300'den fazla olan ürünler gösterilir. \n",
    "giyim = df[(df['Kategori']=='Giyim') & (df['Fiyat']>300)]\n",
    "print(giyim)\n"
   ]
  },
  {
   "cell_type": "code",
   "execution_count": 32,
   "id": "547f670c-0a5e-4de9-8bb6-0a72d3ffadde",
   "metadata": {},
   "outputs": [
    {
     "name": "stdout",
     "output_type": "stream",
     "text": [
      "   Kategori      Ürün  Fiyat\n",
      "2  Ayakkabı  Sandalet    450\n"
     ]
    }
   ],
   "source": [
    "#4.2. Ayakkabı kategorisinde fiyatı 600'den az olan ürünler gösterilir. \n",
    "ayakkabi = df[(df['Kategori']=='Ayakkabı') & (df['Fiyat']<600)]\n",
    "print(ayakkabi)"
   ]
  },
  {
   "cell_type": "code",
   "execution_count": 33,
   "id": "f63c885f-ce76-4bba-8d0e-315e2d7e3ad7",
   "metadata": {},
   "outputs": [
    {
     "name": "stdout",
     "output_type": "stream",
     "text": [
      "   Kategori   Ürün  Fiyat\n",
      "6  Aksesuar  Kolye    150\n"
     ]
    }
   ],
   "source": [
    "#4.3.  Aksesuar kategorisinde fiyatı 100'den fazla olan aksesuar gösterilir. \n",
    "aksesuar = df[(df['Kategori']=='Aksesuar') & (df['Fiyat']>100)]\n",
    "print(aksesuar)"
   ]
  },
  {
   "cell_type": "code",
   "execution_count": null,
   "id": "70ebeeb7-23d0-4f1f-ae65-cf30fe1d67ee",
   "metadata": {},
   "outputs": [],
   "source": []
  }
 ],
 "metadata": {
  "kernelspec": {
   "display_name": "Python 3 (ipykernel)",
   "language": "python",
   "name": "python3"
  },
  "language_info": {
   "codemirror_mode": {
    "name": "ipython",
    "version": 3
   },
   "file_extension": ".py",
   "mimetype": "text/x-python",
   "name": "python",
   "nbconvert_exporter": "python",
   "pygments_lexer": "ipython3",
   "version": "3.11.7"
  }
 },
 "nbformat": 4,
 "nbformat_minor": 5
}
